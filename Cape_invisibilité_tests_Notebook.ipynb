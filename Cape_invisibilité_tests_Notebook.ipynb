{
 "cells": [
  {
   "cell_type": "markdown",
   "metadata": {},
   "source": [
    "<H1>Cape d'invisibilité en Python : </H1>\n"
   ]
  },
  {
   "cell_type": "code",
   "execution_count": 31,
   "metadata": {},
   "outputs": [],
   "source": [
    "import cv2\n",
    "from PIL import Image\n",
    "import numpy as np\n",
    "import matplotlib.pyplot as plt\n",
    "import IPython.display\n",
    "import imageio\n",
    "###################################################\n",
    "def sauvegard_image(matrice):\n",
    "    name_format=\"Fondvisible.jpg\"\n",
    "    imageio.imwrite(name_format, matrice[:, :])\n",
    "#####################################################\n",
    "def trackChaned(x):\n",
    "    pass\n",
    "#####################################################\n",
    "cam=cv2.VideoCapture(0) #1\n",
    "while(True): \n",
    "    ret,img1=cam.read()\n",
    "    cv2.imshow(\"Enregistrement du Fond : -> Touche p\", img1)\n",
    "    if(cv2.waitKey(1) ==ord(\"p\")):\n",
    "        capture=img1\n",
    "        capture= cv2.cvtColor(capture, cv2.COLOR_RGB2HSV)\n",
    "        sauvegard_image(capture)\n",
    "        break;\n",
    "cam.release()\n",
    "cv2.destroyAllWindows()\n",
    "#####################################################\n",
    "cam=cv2.VideoCapture(0) #1\n",
    "cv2.namedWindow(\"Controles :\",1)\n",
    "cv2.resizeWindow(\"Controles :\", (320,140))\n",
    "cv2.moveWindow(\"Controles :\", 973,50)\n",
    "cv2.createTrackbar(\"Hmax=\", \"Controles :\",2,195,trackChaned)\n",
    "cv2.createTrackbar(\"Smin=\", \"Controles :\",100,255,trackChaned)\n",
    "cv2.createTrackbar(\"Vmax=\", \"Controles :\",2,180,trackChaned)\n",
    "cv2.setTrackbarPos(\"Hmax=\", \"Controles :\",84) #,152\n",
    "cv2.setTrackbarPos(\"Smin=\", \"Controles :\",100) # ,138\n",
    "cv2.setTrackbarPos(\"Vmax=\", \"Controles :\",180) # ,158\n",
    "while(True): \n",
    "    ret,img1=cam.read();\n",
    "    img1= cv2.cvtColor(img1, cv2.COLOR_RGB2HSV)\n",
    "    Rmax=cv2.getTrackbarPos(\"Hmax=\", \"Controles :\")\n",
    "    Vmin=cv2.getTrackbarPos(\"Smin=\", \"Controles :\")\n",
    "    Bmax=cv2.getTrackbarPos(\"Vmax=\", \"Controles :\")\n",
    "##############\n",
    "    img2 = Image.open('Fondvisible.jpg')\n",
    "    largeur = img1.shape[0]\n",
    "    hauteur = img1.shape[1]\n",
    "    img1_img= Image.fromarray(img1)\n",
    "    for y in range (0, hauteur-1):\n",
    "        for x in range (0,largeur-1):\n",
    "            q= img1_img.getpixel((y,x))  # ((x,y))\n",
    "            R=q[0]\n",
    "            V=q[1]\n",
    "            B=q[2]\n",
    "            if R<Rmax and V>Vmin and B<Bmax:  # R<135 and V>100 and B<150:   \n",
    "                m= img2.getpixel((y,x))  # ((x,y))\n",
    "                Rb=m[0]\n",
    "                Vb=m[1]\n",
    "                Bb=m[2]\n",
    "                img1_img.putpixel((y,x), (Rb,Vb,Bb))\n",
    "    img1 = np.array(img1_img)\n",
    "    img1= cv2.cvtColor(img1, cv2.COLOR_HSV2RGB)\n",
    "    cv2.imshow(\"Cape d invisibilite (vert) ; q pour sortir.\", img1);\n",
    "\n",
    "    if(cv2.waitKey(1) ==ord(\"q\")):\n",
    "        break;\n",
    "cam.release()\n",
    "cv2.destroyAllWindows()"
   ]
  },
  {
   "cell_type": "markdown",
   "metadata": {},
   "source": [
    "<H1> Bug ? : </H1>\n",
    "\n",
    "--> Activez (Enlever les # et exécutez) la cellule suivante."
   ]
  },
  {
   "cell_type": "code",
   "execution_count": 2,
   "metadata": {},
   "outputs": [],
   "source": [
    "# cam.release()\n",
    "# cv2.destroyAllWindows()"
   ]
  }
 ],
 "metadata": {
  "kernelspec": {
   "display_name": "Python 3",
   "language": "python",
   "name": "python3"
  },
  "language_info": {
   "codemirror_mode": {
    "name": "ipython",
    "version": 3
   },
   "file_extension": ".py",
   "mimetype": "text/x-python",
   "name": "python",
   "nbconvert_exporter": "python",
   "pygments_lexer": "ipython3",
   "version": "3.8.8"
  }
 },
 "nbformat": 4,
 "nbformat_minor": 2
}
